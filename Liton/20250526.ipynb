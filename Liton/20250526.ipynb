{
 "cells": [
  {
   "cell_type": "markdown",
   "id": "2278bcef",
   "metadata": {},
   "source": [
    "### 关于有效温度\n",
    "\n",
    "> 一般定义的有效温度\n",
    "\n",
    "对每一个温度分布计算其有效温度\n",
    "$$\n",
    "T_{eff} = \\frac{\\int T(X) dX/X [exp(-X/\\Lambda_{\\pi}) - exp(-X/\\Lambda_{N})]}{\\int dX/X [exp(-X/\\Lambda_{\\pi}) - exp(-X/\\Lambda_{N})]}\n",
    "$$\n",
    "\n",
    "其中 $\\Lambda_{\\pi} = 160gm/cm^2$ , $\\Lambda_{N} = 120gm/cm^2$\n",
    "\n",
    "> 对于有效温度的优化目标\n",
    "\n",
    "我们挺希望新定义的有效温度能够最大地反映$\\mu$子通量的变化，也就是得最大化相关系数\n",
    "\n",
    "$$\n",
    "\\alpha(d) = \\frac{T(d)}{I_{\\mu}} \\frac{d I_{\\mu}}{T(d)} = \\frac{dln{I_{\\mu}}}{dlnT(d)}\n",
    "$$\n",
    "\n",
    "也就是要让$dlnT(d)$最小，有效温度函数的对数对着时间的偏导数最小\n",
    "\n",
    "$$\n",
    "T(d) =\\frac{\\int_0^{\\infty} T(d,h)f(h) dh}{\\int_0^{\\infty} f(h) dh}\n",
    "$$\n",
    "\n",
    "即：\n",
    "$$\n",
    "\\frac{\\partial lnT(d)}{\\partial d} = \\frac{\\partial}{\\partial d} ln(\\int_0^{\\infty} T(d,h)f(h) dh)\n",
    "$$\n",
    "$$\n",
    "\\frac{\\frac{\\partial}{\\partial d} \\int_0^{\\infty} T(d,h)f(h) dh}{\\int_0^{\\infty} T(d,h)f(h) dh} = 0\n",
    "$$\n",
    "在这里，交换分子微分与积分的顺序：\n",
    "$$\n",
    "\\int_0^{\\infty} \\frac{\\partial}{\\partial d} T(d,h)f(h) dh = 0\n",
    "$$\n",
    "\n",
    "通过这个方程得到权的分布应该就是最好的$f(h)$, 为了求解这个积分方程，我们对权函数做更多的规定：\n",
    "\n",
    "- $f(h)$最好是单调的\n",
    "\n",
    "- $f(h)$最好是非负的\n",
    "\n",
    "- $f(h)$必须是绝对可积的\n",
    "\n",
    "- $f(h)$最好是标度无关的\n",
    "\n",
    "同时为了衡量后面得到的不同权函数的优劣，我们用一个因子衡量：\n",
    "$$\n",
    "M = \\int_0^{T} dt \\int_0^{\\infty} \\frac{\\partial}{\\partial t} T(t,h)f(h) dh\n",
    "$$\n",
    "\n",
    "$$\n",
    "m = \\frac{\\int_0^{T} dt \\int_0^{\\infty} \\frac{\\partial}{\\partial t} T(t,h)f(h) dh}\n",
    "{\\int_0^{T} dt \\int_0^{\\infty} \\frac{\\partial}{\\partial t} T(t,h) dh \\int f(h)dh} \n",
    "$$\n",
    "其中T为一年的周期，显然M越小，相关程度越高"
   ]
  },
  {
   "cell_type": "code",
   "execution_count": 1,
   "id": "98ae277c",
   "metadata": {},
   "outputs": [
    {
     "name": "stdout",
     "output_type": "stream",
     "text": [
      "Generating Doy 365 temperature field: 100.0%\n",
      "\n",
      "Generating Doy 364 diff temperature field: 100.0%\n",
      "\n"
     ]
    }
   ],
   "source": [
    "import numpy as np\n",
    "from scipy.integrate import quad\n",
    "from scipy.interpolate import interp1d\n",
    "from MCEq.geometry import density_profiles\n",
    "import gc\n",
    "\n",
    "msis_atmospheres = np.array([\n",
    "            [\"SouthPole\", -90,0],              # 南极点\n",
    "            [\"Karlsruhe\",49.0097,8.4044],     # 卡尔斯鲁厄，德国\n",
    "            [\"Geneva\",46.2044,6.1432],        # 日内瓦，瑞士\n",
    "            [\"Tokyo\",35.6762,139.6503],       # 东京，日本\n",
    "            [\"SanGrasso\",42.42,13.57],        # Gran Sasso 实验室,意大利\n",
    "            [\"TelAviv\",32.0853,34.7818],      # 特拉维夫，以色列\n",
    "            [\"KSC\",28.5721,-80.6480],         # 肯尼迪航天发射中心，美国\n",
    "            [\"SoudanMine\",47.8167,-92.2333],  # 苏丹矿，美国\n",
    "            [\"Tsukuba\",36.0833,140.0833],     # 筑波，日本\n",
    "            [\"LynnLake\",56.85,-101.05],       # 林恩湖，加拿大\n",
    "            [\"PeaceRiver\",56.2333,-117.2833], # 和平河镇，加拿大\n",
    "            [\"FtSumner\",34.4717,-104.2453]    # 萨姆纳堡，美国\n",
    "        ])\n",
    "\n",
    "\n",
    "def effective_temperature(weight_func,loc = 'SouthPole'):\n",
    "    tmp_field = np.zeros((1000,365))\n",
    "    effective_temperatures = np.zeros(365)\n",
    "    heights = np.linspace(0,50,1000)*1e2*1e3\n",
    "    weights = weight_func(heights)\n",
    "\n",
    "    for doy in range(365):\n",
    "        tmp_model = density_profiles.MSIS00Atmosphere(\n",
    "            location = loc,\n",
    "            doy = doy)\n",
    "        tmp_distribution = [tmp_model.get_temperature(h) for h in heights]\n",
    "        tmp_field[:,doy] = tmp_distribution\n",
    "\n",
    "        intting_func1 = interp1d(heights,tmp_distribution*weights,kind='cubic')\n",
    "        quadded1,_ = quad(intting_func1,heights[0],heights[-1])\n",
    "        intting_func2 = interp1d(heights,weights,kind='cubic')\n",
    "        quadded2,_ = quad(intting_func2,heights[0],heights[-1])\n",
    "        effective_temperatures[doy] = quadded1/quadded2\n",
    "\n",
    "        print(f'\\rGenerating Doy {doy+1} temperature field: {(doy+1)/365 :.1%}',\n",
    "              end='', flush=True)\n",
    "    print('\\n',flush=False)\n",
    "\n",
    "    M_factors = np.zeros(365-1)\n",
    "    M_divides = np.zeros(365-1)\n",
    "    partialt_temp = np.diff(tmp_field,n=1,axis=1)\n",
    "    for ddoy in range(365-1):\n",
    "        intting_func1 = interp1d(heights,weights*partialt_temp[:,ddoy],kind='cubic')\n",
    "        M_factor,_ = quad(intting_func1,heights[0],heights[-1])\n",
    "        M_factors[ddoy] = M_factor\n",
    "\n",
    "        intting_func2 = interp1d(heights,partialt_temp[:,ddoy],kind='cubic')\n",
    "        M_divides[ddoy],_ = quad(intting_func2,heights[0],heights[-1])\n",
    "\n",
    "        print(f'\\rGenerating Doy {ddoy+1} diff temperature field: {(ddoy+1)/364 :.1%}',\n",
    "              end='', flush=True)\n",
    "        \n",
    "    print(\"\\n\", flush=False)\n",
    "\n",
    "    intting_func1 = interp1d(np.arange(364)+0.5,M_factors,kind='cubic')\n",
    "    quadded1,_ = quad(intting_func1,0.5,363.5)\n",
    "    intting_func2 = interp1d(np.arange(364)+0.5,M_divides,kind='cubic')\n",
    "    quadded2,_ = quad(intting_func2,0.5,363.5)\n",
    "    intting_func3 = interp1d(heights,weights,kind='cubic')\n",
    "    quadded3,_ = quad(intting_func3,heights[0],heights[-1])\n",
    "\n",
    "    M = quadded1/(quadded2*quadded3)\n",
    "\n",
    "    del tmp_field\n",
    "    gc.collect()\n",
    "    \n",
    "    return effective_temperatures,M\n",
    "\n",
    "def weight1(h):\n",
    "    return np.exp(-h/(2*h[-1]))\n",
    "eT,m = effective_temperature(weight1,loc = \"KSC\")"
   ]
  },
  {
   "cell_type": "code",
   "execution_count": 2,
   "id": "3e6963c7",
   "metadata": {},
   "outputs": [
    {
     "data": {
      "text/plain": [
       "8.409068496692203e-08"
      ]
     },
     "execution_count": 2,
     "metadata": {},
     "output_type": "execute_result"
    }
   ],
   "source": [
    "m"
   ]
  },
  {
   "cell_type": "markdown",
   "id": "953cfe86",
   "metadata": {},
   "source": [
    "> 最简单的情况，$f(h)$ = Const $\\neq$ 0, $T = \\bar{T}$\n",
    "\n",
    "这里的$T_{eff}$就是对h的平均温度"
   ]
  }
 ],
 "metadata": {
  "kernelspec": {
   "display_name": "mceq_muon",
   "language": "python",
   "name": "python3"
  },
  "language_info": {
   "codemirror_mode": {
    "name": "ipython",
    "version": 3
   },
   "file_extension": ".py",
   "mimetype": "text/x-python",
   "name": "python",
   "nbconvert_exporter": "python",
   "pygments_lexer": "ipython3",
   "version": "3.13.7"
  }
 },
 "nbformat": 4,
 "nbformat_minor": 5
}
